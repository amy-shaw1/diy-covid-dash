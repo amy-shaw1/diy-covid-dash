{
 "cells": [
  {
   "cell_type": "markdown",
   "metadata": {},
   "source": [
    "[DIY Covid-19 Dashboard Kit](https://github.com/fsmeraldi/diy-covid19dash) (C) Fabrizio Smeraldi, 2020 ([f.smeraldi@qmul.ac.uk](mailto:f.smeraldi@qmul.ac.uk) - [web](http://www.eecs.qmul.ac.uk/~fabri/)). All rights reserved."
   ]
  },
  {
   "cell_type": "markdown",
   "metadata": {},
   "source": [
    "# DIY Covid-19 Dashboard"
   ]
  },
  {
   "cell_type": "code",
   "execution_count": 1,
   "metadata": {},
   "outputs": [],
   "source": [
    "import ipywidgets as wdg\n",
    "import pandas as pd\n",
    "import numpy as np\n",
    "import matplotlib.pyplot as plt\n",
    "import json\n",
    "from uk_covid19 import Cov19API"
   ]
  },
  {
   "cell_type": "code",
   "execution_count": 2,
   "metadata": {},
   "outputs": [],
   "source": [
    "%matplotlib inline\n",
    "# make figures larger\n",
    "plt.rcParams['figure.dpi'] = 100"
   ]
  },
  {
   "cell_type": "markdown",
   "metadata": {},
   "source": [
    "## Overview of the most serious COVID-19 cases"
   ]
  },
  {
   "cell_type": "markdown",
   "metadata": {},
   "source": [
    "This graph shows the daily count of COVID-19 hospital cases, COVID-19 patients on ventilators and new COVID-19 related deaths. You can select the metrics to be displayed.\n",
    "* Total number of confirmed COVID-19 patients in hospital on the reporting date.\n",
    "* Total number of mechanical ventilation beds that are occupied by COVID-19 patients on the reporting date.\n",
    "* Total number of people who had a positive test result for COVID-19 and died within 28 days, reported on the date of death."
   ]
  },
  {
   "cell_type": "code",
   "execution_count": 3,
   "metadata": {},
   "outputs": [],
   "source": [
    "# the wrangle_data function will be called on the JSON files when the dashboard first loads\n",
    "# and again when the data is refreshed through the API\n",
    "def wrangle_timeseries_data(rawData, columnList):\n",
    "    \"\"\" Parameters: raw timeseries data from json or API call and a list of columns. Returns a populated dataframe. \"\"\"\n",
    "\n",
    "    # pull a sorted list of dates from rawData\n",
    "    rawDataList = rawData['data']\n",
    "    dates = []\n",
    "    for item in rawDataList:\n",
    "        dates.append(item['date'])\n",
    "    dates.sort()\n",
    "\n",
    "    # define a function to convert our date into a panda date object\n",
    "    def parse_date(datestring):\n",
    "        \"\"\" Convert a date string into a pandas datetime object \"\"\"\n",
    "        return pd.to_datetime(datestring, format=\"%Y-%m-%d\")\n",
    "\n",
    "    # use the panda date_range method to create a date range from the first item in our sorted date list to the last\n",
    "    # this forms our index (x-axis)\n",
    "    startdate=parse_date(dates[0])\n",
    "    enddate=parse_date(dates[-1])\n",
    "    dateRange=pd.date_range(startdate, enddate, freq='D')\n",
    "    \n",
    "    # create empty dataframe\n",
    "    newDF=pd.DataFrame(index=dateRange, columns=columnList)\n",
    "    \n",
    "    # populate dataframe\n",
    "    for item in rawDataList:\n",
    "        date=parse_date(item['date'])  # convert rawData dates into our datetime objects\n",
    "        for col in columnList:\n",
    "            if pd.isna(newDF.loc[date, col]):  # check that the cell in the dataframe is currently NaN\n",
    "                if item[col] != None:  # if the raw data is not None\n",
    "                    newDF.loc[date, col] = float(item[col])  # populate the cell with the value at key=col\n",
    "                else:\n",
    "                    newDF.loc[date, col] = 0.0  # else replace None with zero\n",
    "    newDF.fillna(0.0, inplace=True) # fill any remaining NAs in the dataframe with zero \n",
    "       \n",
    "    # return the populated dataframe\n",
    "    return newDF"
   ]
  },
  {
   "cell_type": "code",
   "execution_count": 14,
   "metadata": {},
   "outputs": [],
   "source": [
    "# call the function directly on the JSON data when the dashboard starts\n",
    "# load initial data\n",
    "with open(\"hospitalTimeseries.json\", \"rt\") as INFILE:\n",
    "    hospitalJSON=json.load(INFILE)\n",
    "\n",
    "# call wrangle_data function. Parameters are my json data and the list of columns. Returns a populated dataframe\n",
    "hospitalDF = wrangle_timeseries_data(hospitalJSON, ['hospitalCases', 'ventilators','newDeaths'])"
   ]
  },
  {
   "cell_type": "code",
   "execution_count": 5,
   "metadata": {},
   "outputs": [],
   "source": [
    "# This function is called when the button is clicked.\n",
    "# the code accesses the API and returns fresh raw data\n",
    "def access_api():\n",
    "    \"\"\" Accesses the PHE API. Returns raw data in the same format as data loaded from the \"canned\" JSON file. \"\"\"\n",
    "    filters = [\n",
    "        'areaType=overview',\n",
    "    ]\n",
    "    structure = {\n",
    "        \"date\": \"date\",\n",
    "        \"hospitalCases\": \"hospitalCases\",\n",
    "        \"ventilators\": \"covidOccupiedMVBeds\",\n",
    "        \"newDeaths\": \"newDeaths28DaysByDeathDate\"\n",
    "    }\n",
    "\n",
    "    api = Cov19API(filters=filters, structure=structure)\n",
    "    hospitalTimeseries=api.get_json()\n",
    "    # return raw data read from the API\n",
    "    return hospitalTimeseries"
   ]
  },
  {
   "cell_type": "code",
   "execution_count": 6,
   "metadata": {},
   "outputs": [],
   "source": [
    "# this function is called in the api_button_callback\n",
    "# a function to simulate interaction with the widget.\n",
    "def refresh_graph(selectWidget):\n",
    "    \"\"\" We change the value of the widget in order to force a redraw of the graph. \"\"\"\n",
    "    current = selectWidget.value\n",
    "    if current == selectWidget.options:\n",
    "        other = selectWidget.options[0:1]\n",
    "    else:\n",
    "        other = selectWidget.options\n",
    "    selectWidget.value=other # forces the redraw\n",
    "    selectWidget.value=current # now we can change it back. Comment this out to check if the function is working"
   ]
  },
  {
   "cell_type": "code",
   "execution_count": 10,
   "metadata": {},
   "outputs": [
    {
     "data": {
      "application/vnd.jupyter.widget-view+json": {
       "model_id": "0eca6473c4714bed8064a4a68d73a233",
       "version_major": 2,
       "version_minor": 0
      },
      "text/plain": [
       "Button(button_style='info', description='Refresh PHE data', icon='download', style=ButtonStyle(), tooltip='Acc…"
      ]
     },
     "metadata": {},
     "output_type": "display_data"
    }
   ],
   "source": [
    "# Get fresh data from the API.\n",
    "def api_button_callback(button):\n",
    "    \"\"\" Button callback - it must take the button as its parameter (unused in this case).\n",
    "    Accesses API, wrangles data, updates global variable df used for plotting. \"\"\"\n",
    "    ## error handling: the \"canned\" data are not overwritten and nothing crashes if for any reason the server cannot be reached\n",
    "    try:\n",
    "        apidata=access_api()\n",
    "        # wrangle the data into a dataframe\n",
    "        # and overwrite the (global) hospitalDF variable for plotting\n",
    "        global hospitalDF\n",
    "        hospitalDF = wrangle_timeseries_data(apidata, ['hospitalCases', 'ventilators','newDeaths'])\n",
    "        # call the refresh_graph function defined above which simulates interaction with the widget.\n",
    "        refresh_graph(selectColumns)\n",
    "        # update the button icon/text for a success scenario\n",
    "        apibutton.description=\"Data refreshed\"\n",
    "        button_style='success',\n",
    "        apibutton.icon=\"check\"\n",
    "        apibutton.disabled=True\n",
    "    except:\n",
    "        # update the button icon/text for an error scenario\n",
    "        apibutton.description=\"Data unavailable\"\n",
    "        button_style='danger',\n",
    "        apibutton.icon=\"exclamation-triangle\"\n",
    "        apibutton.disabled=True\n",
    "\n",
    "# initial api button\n",
    "apibutton=wdg.Button(\n",
    "    description='Refresh PHE data', \n",
    "    disabled=False,\n",
    "    button_style='info',\n",
    "    tooltip=\"Access the latest data from Public Health England\",\n",
    "    icon='download'\n",
    ")\n",
    "\n",
    "# register the button callback function with the button, so the api is refreshed when the button is clicked\n",
    "apibutton.on_click(api_button_callback) \n",
    "\n",
    "# display the button\n",
    "display(apibutton)"
   ]
  },
  {
   "cell_type": "code",
   "execution_count": 15,
   "metadata": {},
   "outputs": [
    {
     "data": {
      "application/vnd.jupyter.widget-view+json": {
       "model_id": "9ebfb1375d094162a4f361efe8c681f2",
       "version_major": 2,
       "version_minor": 0
      },
      "text/plain": [
       "HBox(children=(SelectMultiple(description='Select:', index=(0, 1, 2), options=('hospitalCases', 'ventilators',…"
      ]
     },
     "metadata": {},
     "output_type": "display_data"
    }
   ],
   "source": [
    "# this function enables interactive plotting\n",
    "def plot_graph(gcols):\n",
    "    ncols=len(gcols)\n",
    "    if ncols>0:\n",
    "        global hospitalDF\n",
    "        hospitalDF[list(gcols)].plot(title = 'Overview of the most serious COVID-19 cases')\n",
    "    else:\n",
    "        print(\"Click to select data for graph\")\n",
    "        print(\"(CTRL-Click to select more than one category)\")\n",
    "    # print the timestamp of the most recent date in the dataframe\n",
    "    print(\"Latest data as of: \", end='')\n",
    "    print(hospitalDF.index[-1].strftime('%d-%b-%Y'))\n",
    "\n",
    "selectColumns=wdg.SelectMultiple(\n",
    "    options=['hospitalCases', 'ventilators', 'newDeaths'], # possible values\n",
    "    value=['hospitalCases', 'ventilators', 'newDeaths'], # default value\n",
    "    rows=3,\n",
    "    description='Select:',\n",
    "    disabled=False\n",
    ")\n",
    "\n",
    "# create interactive graph\n",
    "graph=wdg.interactive_output(plot_graph, {'gcols': selectColumns})\n",
    "\n",
    "# display the selection box and the graph together (horizontally)\n",
    "form=wdg.HBox([selectColumns, graph])\n",
    "display(form)"
   ]
  },
  {
   "cell_type": "markdown",
   "metadata": {},
   "source": [
    "**Author and Copyright Notice** Amy Shaw (2020). Template by Fabrizio Smeraldi (2020).\n",
    "*Based on UK Government [data](https://coronavirus.data.gov.uk/) published by [Public Health England](https://www.gov.uk/government/organisations/public-health-england).*"
   ]
  }
 ],
 "metadata": {
  "kernelspec": {
   "display_name": "Python 3",
   "language": "python",
   "name": "python3"
  },
  "language_info": {
   "codemirror_mode": {
    "name": "ipython",
    "version": 3
   },
   "file_extension": ".py",
   "mimetype": "text/x-python",
   "name": "python",
   "nbconvert_exporter": "python",
   "pygments_lexer": "ipython3",
   "version": "3.8.5"
  }
 },
 "nbformat": 4,
 "nbformat_minor": 4
}
